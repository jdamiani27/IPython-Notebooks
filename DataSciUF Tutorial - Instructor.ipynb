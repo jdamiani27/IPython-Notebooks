{
 "cells": [
  {
   "cell_type": "markdown",
   "metadata": {},
   "source": [
    "# Python Basics"
   ]
  },
  {
   "cell_type": "markdown",
   "metadata": {},
   "source": [
    "##Syntax\n",
    "Python is an object oriented scripting language and does not require a specific first or last line (such as <code>public static void main</code> in Java or <code>return</code> in C).\n",
    "\n",
    "There are no curly braces {} to define code blocks or semi-colons ; to end a line.  Instead of braces, indentation is rigidly enforced to create a block of code."
   ]
  },
  {
   "cell_type": "code",
   "execution_count": 2,
   "metadata": {
    "collapsed": false
   },
   "outputs": [
    {
     "name": "stdout",
     "output_type": "stream",
     "text": [
      "False\n"
     ]
    }
   ],
   "source": [
    "# This is a comment\n",
    "\n",
    "if (3 < 2):\n",
    "    print \"True\" # Another Comment.  This print syntax only works in Python 2, not 3\n",
    "else:\n",
    "        print \"False\""
   ]
  },
  {
   "cell_type": "markdown",
   "metadata": {},
   "source": [
    "Arbitrary indentation can be used within a code block, as long as the indentation is consistent."
   ]
  },
  {
   "cell_type": "code",
   "execution_count": 3,
   "metadata": {
    "collapsed": false
   },
   "outputs": [
    {
     "ename": "IndentationError",
     "evalue": "unexpected indent (<ipython-input-3-6e3880df02f0>, line 3)",
     "output_type": "error",
     "traceback": [
      "\u001b[0;36m  File \u001b[0;32m\"<ipython-input-3-6e3880df02f0>\"\u001b[0;36m, line \u001b[0;32m3\u001b[0m\n\u001b[0;31m    print \"Deep Trouble:\"\u001b[0m\n\u001b[0m    ^\u001b[0m\n\u001b[0;31mIndentationError\u001b[0m\u001b[0;31m:\u001b[0m unexpected indent\n"
     ]
    }
   ],
   "source": [
    "if (1 == 1):\n",
    "        print \"We're in \"\n",
    "            print \"Deep Trouble:\""
   ]
  },
  {
   "cell_type": "code",
   "execution_count": 4,
   "metadata": {
    "collapsed": false
   },
   "outputs": [
    {
     "name": "stdout",
     "output_type": "stream",
     "text": [
      "This works \n",
      "just fine.\n"
     ]
    }
   ],
   "source": [
    "if (0 > -1):\n",
    "            print \"This works \"\n",
    "            print \"just fine.\""
   ]
  },
  {
   "cell_type": "markdown",
   "metadata": {},
   "source": [
    "## Variables and Types"
   ]
  },
  {
   "cell_type": "markdown",
   "metadata": {},
   "source": [
    "Variables can be given alphanumeric names beginning with an underscore or letter.  Variable types do not have to be declared and are inferred at run time."
   ]
  },
  {
   "cell_type": "code",
   "execution_count": 5,
   "metadata": {
    "collapsed": false
   },
   "outputs": [
    {
     "name": "stdout",
     "output_type": "stream",
     "text": [
      "<type 'int'>\n"
     ]
    }
   ],
   "source": [
    "a = 1\n",
    "print type(a) # Built in function"
   ]
  },
  {
   "cell_type": "code",
   "execution_count": 6,
   "metadata": {
    "collapsed": false
   },
   "outputs": [
    {
     "name": "stdout",
     "output_type": "stream",
     "text": [
      "<type 'float'>\n"
     ]
    }
   ],
   "source": [
    "b = 2.5 \n",
    "print type(b)"
   ]
  },
  {
   "cell_type": "markdown",
   "metadata": {},
   "source": [
    "Strings can be declared with either single or double quotes."
   ]
  },
  {
   "cell_type": "code",
   "execution_count": 7,
   "metadata": {
    "collapsed": false
   },
   "outputs": [
    {
     "name": "stdout",
     "output_type": "stream",
     "text": [
      "Go Gators\n",
      "<type 'str'>\n"
     ]
    }
   ],
   "source": [
    "c1 = \"Go \"\n",
    "c2 = 'Gators'\n",
    "c3 = c1 + c2\n",
    "print c3\n",
    "print type(c3)"
   ]
  },
  {
   "cell_type": "markdown",
   "metadata": {},
   "source": [
    "The scope of variables is local to the function, class, and file in that increasing order of scope.  Global variables can also be declared."
   ]
  },
  {
   "cell_type": "code",
   "execution_count": 8,
   "metadata": {
    "collapsed": false
   },
   "outputs": [
    {
     "name": "stdout",
     "output_type": "stream",
     "text": [
      "b used to be 2.5\n",
      "Now b is 3.5\n"
     ]
    }
   ],
   "source": [
    "print \"b used to be\", b # Prints arguments with a space separator \n",
    "\n",
    "# Our first function declaration\n",
    "def sum():\n",
    "    global b\n",
    "    b = a + b\n",
    "    \n",
    "sum() # calling sum\n",
    "\n",
    "# using this syntax, the arguments can be of any type that supports a string representation.  No casting needed.\n",
    "print \"Now b is\", b "
   ]
  },
  {
   "cell_type": "markdown",
   "metadata": {},
   "source": [
    "##Modules and Import\n",
    "Files with a .py extension are known as Modules in Python.  Modules are used to store functions, variables, and class definitions.  \n",
    "\n",
    "Modules that are not part of the standard Python library are included in your program using the <code>import</code> statement."
   ]
  },
  {
   "cell_type": "code",
   "execution_count": 9,
   "metadata": {
    "collapsed": false
   },
   "outputs": [
    {
     "ename": "NameError",
     "evalue": "name 'cos' is not defined",
     "output_type": "error",
     "traceback": [
      "\u001b[0;31m---------------------------------------------------------------------------\u001b[0m",
      "\u001b[0;31mNameError\u001b[0m                                 Traceback (most recent call last)",
      "\u001b[0;32m<ipython-input-9-0f2780fae532>\u001b[0m in \u001b[0;36m<module>\u001b[0;34m()\u001b[0m\n\u001b[1;32m      1\u001b[0m \u001b[0;31m# To use Math, we must import it\u001b[0m\u001b[0;34m\u001b[0m\u001b[0;34m\u001b[0m\u001b[0m\n\u001b[1;32m      2\u001b[0m \u001b[0;32mimport\u001b[0m \u001b[0mmath\u001b[0m\u001b[0;34m\u001b[0m\u001b[0m\n\u001b[0;32m----> 3\u001b[0;31m \u001b[0;32mprint\u001b[0m \u001b[0mcos\u001b[0m\u001b[0;34m(\u001b[0m\u001b[0;36m0\u001b[0m\u001b[0;34m)\u001b[0m\u001b[0;34m\u001b[0m\u001b[0m\n\u001b[0m",
      "\u001b[0;31mNameError\u001b[0m: name 'cos' is not defined"
     ]
    }
   ],
   "source": [
    "# To use Math, we must import it\n",
    "import math\n",
    "print cos(0)"
   ]
  },
  {
   "cell_type": "markdown",
   "metadata": {},
   "source": [
    "Whoops.  Importing the <code>math</code> module allows us access to all of its functions, but we must call them in this way"
   ]
  },
  {
   "cell_type": "code",
   "execution_count": 10,
   "metadata": {
    "collapsed": false
   },
   "outputs": [
    {
     "name": "stdout",
     "output_type": "stream",
     "text": [
      "1.0\n"
     ]
    }
   ],
   "source": [
    "print math.cos(0)"
   ]
  },
  {
   "cell_type": "markdown",
   "metadata": {},
   "source": [
    "Alternatively, you can use the <code>from</code> keyword"
   ]
  },
  {
   "cell_type": "code",
   "execution_count": 11,
   "metadata": {
    "collapsed": false
   },
   "outputs": [
    {
     "name": "stdout",
     "output_type": "stream",
     "text": [
      "-1.0\n"
     ]
    }
   ],
   "source": [
    "from math import cos\n",
    "print cos(math.pi) # we only imported cos, not the pi constant"
   ]
  },
  {
   "cell_type": "markdown",
   "metadata": {},
   "source": [
    "Using the <code>from</code> statement we can import everything from the math module.  \n",
    "\n",
    "Disclaimer: many Pythonistas discourage doing this for performance reasons.  Just import what you need"
   ]
  },
  {
   "cell_type": "code",
   "execution_count": 12,
   "metadata": {
    "collapsed": false
   },
   "outputs": [
    {
     "name": "stdout",
     "output_type": "stream",
     "text": [
      "1.0\n"
     ]
    }
   ],
   "source": [
    "from math import *\n",
    "print sin(pi/2) # now we don't have to make a call to math"
   ]
  },
  {
   "cell_type": "markdown",
   "metadata": {},
   "source": [
    "##Strings\n",
    "As you may expect, Python has a powerful, full featured string module.  \n",
    "\n",
    "###Substrings\n",
    "Python strings can be substringed using bracket syntax"
   ]
  },
  {
   "cell_type": "code",
   "execution_count": 13,
   "metadata": {
    "collapsed": false
   },
   "outputs": [
    {
     "name": "stdout",
     "output_type": "stream",
     "text": [
      "Come on Gators\n"
     ]
    }
   ],
   "source": [
    "mystring = \"Go Gators, Come on Gators, Get up and go!\"\n",
    "print mystring[11:25]"
   ]
  },
  {
   "cell_type": "markdown",
   "metadata": {},
   "source": [
    "Python is a 0-index based language.  Generally whenever forming a range of values in Python, the first argument is inclusive whereas the second is not, i.e. <code>mystring[11:25]</code> returns characters 11 through 24.\n",
    "\n",
    "You can omit the first or second argument"
   ]
  },
  {
   "cell_type": "code",
   "execution_count": 14,
   "metadata": {
    "collapsed": false
   },
   "outputs": [
    {
     "name": "stdout",
     "output_type": "stream",
     "text": [
      "Go Gators\n"
     ]
    }
   ],
   "source": [
    "print mystring[:9] # all characters before the 9th index"
   ]
  },
  {
   "cell_type": "code",
   "execution_count": 15,
   "metadata": {
    "collapsed": false
   },
   "outputs": [
    {
     "name": "stdout",
     "output_type": "stream",
     "text": [
      "Get up and go!\n"
     ]
    }
   ],
   "source": [
    "print mystring[27:] # all characters at or after the 27th"
   ]
  },
  {
   "cell_type": "code",
   "execution_count": 16,
   "metadata": {
    "collapsed": false
   },
   "outputs": [
    {
     "name": "stdout",
     "output_type": "stream",
     "text": [
      "Go Gators, Come on Gators, Get up and go!\n"
     ]
    }
   ],
   "source": [
    "print mystring[:] # you can even omit both arguments"
   ]
  },
  {
   "cell_type": "markdown",
   "metadata": {},
   "source": [
    "Using negative values, you can count positions backwards"
   ]
  },
  {
   "cell_type": "code",
   "execution_count": 17,
   "metadata": {
    "collapsed": false
   },
   "outputs": [
    {
     "name": "stdout",
     "output_type": "stream",
     "text": [
      "go\n"
     ]
    }
   ],
   "source": [
    "print mystring[-3:-1]"
   ]
  },
  {
   "cell_type": "markdown",
   "metadata": {},
   "source": [
    "###String Functions\n",
    "Here are some more useful string functions\n",
    "####find"
   ]
  },
  {
   "cell_type": "code",
   "execution_count": 18,
   "metadata": {
    "collapsed": false
   },
   "outputs": [
    {
     "name": "stdout",
     "output_type": "stream",
     "text": [
      "3\n"
     ]
    }
   ],
   "source": [
    "print mystring.find(\"Gators\") # returns the index of the first occurence of Gators"
   ]
  },
  {
   "cell_type": "code",
   "execution_count": 19,
   "metadata": {
    "collapsed": false
   },
   "outputs": [
    {
     "name": "stdout",
     "output_type": "stream",
     "text": [
      "19\n"
     ]
    }
   ],
   "source": [
    "print mystring.find(\"Gators\", 4) # specify an index on which to begin searching"
   ]
  },
  {
   "cell_type": "code",
   "execution_count": 20,
   "metadata": {
    "collapsed": false
   },
   "outputs": [
    {
     "name": "stdout",
     "output_type": "stream",
     "text": [
      "-1\n"
     ]
    }
   ],
   "source": [
    "print mystring.find(\"Gators\", 4, 19) # specify both begin and end indexes to search"
   ]
  },
  {
   "cell_type": "markdown",
   "metadata": {},
   "source": [
    "Looks like nothing was found.  -1 is returned by default."
   ]
  },
  {
   "cell_type": "code",
   "execution_count": 21,
   "metadata": {
    "collapsed": false
   },
   "outputs": [
    {
     "name": "stdout",
     "output_type": "stream",
     "text": [
      "-1\n"
     ]
    }
   ],
   "source": [
    "print mystring.find(\"Seminoles\") # no Seminoles here"
   ]
  },
  {
   "cell_type": "markdown",
   "metadata": {},
   "source": [
    "####lower and upper"
   ]
  },
  {
   "cell_type": "code",
   "execution_count": 22,
   "metadata": {
    "collapsed": false
   },
   "outputs": [
    {
     "name": "stdout",
     "output_type": "stream",
     "text": [
      "go gators, come on gators, get up and go!\n",
      "GO GATORS, COME ON GATORS, GET UP AND GO!\n"
     ]
    }
   ],
   "source": [
    "print mystring.lower()\n",
    "print mystring.upper()"
   ]
  },
  {
   "cell_type": "markdown",
   "metadata": {},
   "source": [
    "####replace"
   ]
  },
  {
   "cell_type": "code",
   "execution_count": 23,
   "metadata": {
    "collapsed": false
   },
   "outputs": [
    {
     "name": "stdout",
     "output_type": "stream",
     "text": [
      "Go Seminoles, Come on Seminoles, Get up and go!\n"
     ]
    }
   ],
   "source": [
    "print mystring.replace(\"Gators\", \"Seminoles\") # replaces all occurences of Gators with Seminoles"
   ]
  },
  {
   "cell_type": "code",
   "execution_count": 24,
   "metadata": {
    "collapsed": false
   },
   "outputs": [
    {
     "name": "stdout",
     "output_type": "stream",
     "text": [
      "Go Gators, Come on Gators, Get up and go!\n"
     ]
    }
   ],
   "source": [
    "print mystring"
   ]
  },
  {
   "cell_type": "markdown",
   "metadata": {},
   "source": [
    "Notice that replace returned a new string.  Nothing was modified in place"
   ]
  },
  {
   "cell_type": "code",
   "execution_count": 25,
   "metadata": {
    "collapsed": false
   },
   "outputs": [
    {
     "name": "stdout",
     "output_type": "stream",
     "text": [
      "Go Seminoles, Come on Gators, Get up and go!\n"
     ]
    }
   ],
   "source": [
    "print mystring.replace(\"Gators\", \"Seminoles\", 1) # limit the number of replacements"
   ]
  },
  {
   "cell_type": "markdown",
   "metadata": {},
   "source": [
    "####split"
   ]
  },
  {
   "cell_type": "code",
   "execution_count": 26,
   "metadata": {
    "collapsed": false
   },
   "outputs": [
    {
     "name": "stdout",
     "output_type": "stream",
     "text": [
      "['Go', 'Gators,', 'Come', 'on', 'Gators,', 'Get', 'up', 'and', 'go!']\n"
     ]
    }
   ],
   "source": [
    "print mystring.split() # returns a list of strings broken by a space by default"
   ]
  },
  {
   "cell_type": "code",
   "execution_count": 27,
   "metadata": {
    "collapsed": false
   },
   "outputs": [
    {
     "name": "stdout",
     "output_type": "stream",
     "text": [
      "['Go Gators', ' Come on Gators', ' Get up and go!']\n"
     ]
    }
   ],
   "source": [
    "print mystring.split(',') # you can also define the separator"
   ]
  },
  {
   "cell_type": "markdown",
   "metadata": {},
   "source": [
    "####join\n",
    "\n",
    "The <code>join</code> is useful for building strings from lists or other iterables.  Call <code>join</code> on the desired separator"
   ]
  },
  {
   "cell_type": "code",
   "execution_count": 28,
   "metadata": {
    "collapsed": false
   },
   "outputs": [
    {
     "name": "stdout",
     "output_type": "stream",
     "text": [
      "Go Gators\n"
     ]
    }
   ],
   "source": [
    "print ' '.join([\"Go\", \"Gators\"])"
   ]
  },
  {
   "cell_type": "markdown",
   "metadata": {},
   "source": [
    "For more information on string functions:\n",
    "\n",
    "https://docs.python.org/2/library/stdtypes.html#string-methods"
   ]
  },
  {
   "cell_type": "markdown",
   "metadata": {},
   "source": [
    "##Data Structures\n",
    "###Lists\n",
    "The Python standard library does not have traditional C-style fixed-memory fixed-type arrays.  Instead, lists are used and can contain a mix of any type.\n",
    "\n",
    "Lists are created with square brackets []"
   ]
  },
  {
   "cell_type": "code",
   "execution_count": 29,
   "metadata": {
    "collapsed": false
   },
   "outputs": [
    {
     "name": "stdout",
     "output_type": "stream",
     "text": [
      "[1, 2, 3, 4, 'five']\n"
     ]
    }
   ],
   "source": [
    "mylist = [1, 2, 3, 4, 'five']\n",
    "print mylist"
   ]
  },
  {
   "cell_type": "code",
   "execution_count": 30,
   "metadata": {
    "collapsed": false
   },
   "outputs": [
    {
     "name": "stdout",
     "output_type": "stream",
     "text": [
      "[1, 2, 3, 4, 'five', 6.0]\n"
     ]
    }
   ],
   "source": [
    "mylist.append(6.0) # add an item to the end of the list\n",
    "print mylist"
   ]
  },
  {
   "cell_type": "code",
   "execution_count": 31,
   "metadata": {
    "collapsed": false
   },
   "outputs": [
    {
     "name": "stdout",
     "output_type": "stream",
     "text": [
      "[1, 2, 3, 4, 'five', 6.0, 8, 'nine']\n"
     ]
    }
   ],
   "source": [
    "mylist.extend([8, 'nine']) # extend the list with the contents of another list\n",
    "print mylist"
   ]
  },
  {
   "cell_type": "code",
   "execution_count": 32,
   "metadata": {
    "collapsed": false
   },
   "outputs": [
    {
     "name": "stdout",
     "output_type": "stream",
     "text": [
      "[1, 2, 3, 4, 'five', 6.0, 7, 8, 'nine']\n"
     ]
    }
   ],
   "source": [
    "mylist.insert(6, 7) # insert the number 7 at index 6\n",
    "print mylist"
   ]
  },
  {
   "cell_type": "code",
   "execution_count": 33,
   "metadata": {
    "collapsed": false
   },
   "outputs": [
    {
     "name": "stdout",
     "output_type": "stream",
     "text": [
      "[1, 2, 3, 4, 6.0, 7, 8, 'nine']\n"
     ]
    }
   ],
   "source": [
    "mylist.remove('five') # removes the first matching occurence \n",
    "print mylist"
   ]
  },
  {
   "cell_type": "code",
   "execution_count": 34,
   "metadata": {
    "collapsed": false
   },
   "outputs": [
    {
     "name": "stdout",
     "output_type": "stream",
     "text": [
      "nine\n",
      "[1, 2, 3, 4, 6.0, 7, 8]\n"
     ]
    }
   ],
   "source": [
    "popped = mylist.pop() # by default, the last item in the list is removed and returned\n",
    "print popped\n",
    "print mylist"
   ]
  },
  {
   "cell_type": "code",
   "execution_count": 35,
   "metadata": {
    "collapsed": false
   },
   "outputs": [
    {
     "name": "stdout",
     "output_type": "stream",
     "text": [
      "6.0\n",
      "[1, 2, 3, 4, 7, 8]\n"
     ]
    }
   ],
   "source": [
    "popped2 = mylist.pop(4) # pops at at index\n",
    "print popped2\n",
    "print mylist"
   ]
  },
  {
   "cell_type": "code",
   "execution_count": 36,
   "metadata": {
    "collapsed": false
   },
   "outputs": [
    {
     "name": "stdout",
     "output_type": "stream",
     "text": [
      "6\n"
     ]
    }
   ],
   "source": [
    "print len(mylist) # returns the length of any iterable such as lists and strings"
   ]
  },
  {
   "cell_type": "code",
   "execution_count": 37,
   "metadata": {
    "collapsed": false
   },
   "outputs": [
    {
     "name": "stdout",
     "output_type": "stream",
     "text": [
      "[1, 2, 3, 4, 7, 8, -3, -2, -1]\n"
     ]
    }
   ],
   "source": [
    "mylist.extend(range(-3, 0)) # the range function returns a list from -3 inclusive to 0 non inclusive\n",
    "print mylist"
   ]
  },
  {
   "cell_type": "code",
   "execution_count": 38,
   "metadata": {
    "collapsed": false
   },
   "outputs": [
    {
     "name": "stdout",
     "output_type": "stream",
     "text": [
      "[-3, -2, -1, 1, 2, 3, 4, 7, 8]\n"
     ]
    }
   ],
   "source": [
    "# default list sorting. When more complex objects are in the list, arguments can be used to customize how to sort\n",
    "mylist.sort()\n",
    "print mylist"
   ]
  },
  {
   "cell_type": "code",
   "execution_count": 39,
   "metadata": {
    "collapsed": false
   },
   "outputs": [
    {
     "name": "stdout",
     "output_type": "stream",
     "text": [
      "[8, 7, 4, 3, 2, 1, -1, -2, -3]\n"
     ]
    }
   ],
   "source": [
    "mylist.reverse() # reverse the list\n",
    "print mylist"
   ]
  },
  {
   "cell_type": "markdown",
   "metadata": {},
   "source": [
    "For more information on Lists:\n",
    "\n",
    "https://docs.python.org/2/tutorial/datastructures.html#more-on-lists"
   ]
  },
  {
   "cell_type": "markdown",
   "metadata": {},
   "source": [
    "###Tuples"
   ]
  },
  {
   "cell_type": "markdown",
   "metadata": {},
   "source": [
    "Python supports n-tuple sequences.  These are non-mutable"
   ]
  },
  {
   "cell_type": "code",
   "execution_count": 40,
   "metadata": {
    "collapsed": false
   },
   "outputs": [
    {
     "name": "stdout",
     "output_type": "stream",
     "text": [
      "('Tim', 'Tebow', 15)\n",
      "<type 'tuple'>\n"
     ]
    }
   ],
   "source": [
    "mytuple = 'Tim', 'Tebow', 15 # Created with commas\n",
    "print mytuple\n",
    "print type(mytuple)"
   ]
  },
  {
   "cell_type": "code",
   "execution_count": 41,
   "metadata": {
    "collapsed": false
   },
   "outputs": [
    {
     "name": "stdout",
     "output_type": "stream",
     "text": [
      "Tebow\n"
     ]
    }
   ],
   "source": [
    "print mytuple[1] # access an item"
   ]
  },
  {
   "cell_type": "code",
   "execution_count": 42,
   "metadata": {
    "collapsed": false
   },
   "outputs": [
    {
     "ename": "TypeError",
     "evalue": "'tuple' object does not support item assignment",
     "output_type": "error",
     "traceback": [
      "\u001b[0;31m---------------------------------------------------------------------------\u001b[0m",
      "\u001b[0;31mTypeError\u001b[0m                                 Traceback (most recent call last)",
      "\u001b[0;32m<ipython-input-42-4e1c006a78dd>\u001b[0m in \u001b[0;36m<module>\u001b[0;34m()\u001b[0m\n\u001b[0;32m----> 1\u001b[0;31m \u001b[0mmytuple\u001b[0m\u001b[0;34m[\u001b[0m\u001b[0;36m1\u001b[0m\u001b[0;34m]\u001b[0m \u001b[0;34m=\u001b[0m \u001b[0;34m\"Winston\"\u001b[0m \u001b[0;31m# results in error\u001b[0m\u001b[0;34m\u001b[0m\u001b[0m\n\u001b[0m",
      "\u001b[0;31mTypeError\u001b[0m: 'tuple' object does not support item assignment"
     ]
    }
   ],
   "source": [
    "mytuple[1] = \"Winston\" # results in error"
   ]
  },
  {
   "cell_type": "markdown",
   "metadata": {},
   "source": [
    "###Sets\n",
    "Python includes the set data structure which is an unordered collection with no duplicates"
   ]
  },
  {
   "cell_type": "code",
   "execution_count": 43,
   "metadata": {
    "collapsed": false
   },
   "outputs": [
    {
     "name": "stdout",
     "output_type": "stream",
     "text": [
      "set(['Miami', 'Florida State', 'Florida'])\n"
     ]
    }
   ],
   "source": [
    "schools = ['Florida', 'Florida State', 'Miami', 'Florida']\n",
    "myset = set(schools) # the set is built from the schools list\n",
    "print myset"
   ]
  },
  {
   "cell_type": "code",
   "execution_count": 44,
   "metadata": {
    "collapsed": false
   },
   "outputs": [
    {
     "name": "stdout",
     "output_type": "stream",
     "text": [
      "False\n"
     ]
    }
   ],
   "source": [
    "print 'Georgia' in myset # membership test"
   ]
  },
  {
   "cell_type": "code",
   "execution_count": 45,
   "metadata": {
    "collapsed": false
   },
   "outputs": [
    {
     "name": "stdout",
     "output_type": "stream",
     "text": [
      "True\n"
     ]
    }
   ],
   "source": [
    "print 'Florida' in myset"
   ]
  },
  {
   "cell_type": "code",
   "execution_count": 46,
   "metadata": {
    "collapsed": false
   },
   "outputs": [
    {
     "name": "stdout",
     "output_type": "stream",
     "text": [
      "set(['Florida'])\n"
     ]
    }
   ],
   "source": [
    "badschools = set(['Florida State', 'Miami'])\n",
    "print myset - badschools # set arithmetic"
   ]
  },
  {
   "cell_type": "code",
   "execution_count": 47,
   "metadata": {
    "collapsed": false
   },
   "outputs": [
    {
     "name": "stdout",
     "output_type": "stream",
     "text": [
      "set(['Miami', 'Florida State'])\n"
     ]
    }
   ],
   "source": [
    "print myset & badschools # AND"
   ]
  },
  {
   "cell_type": "code",
   "execution_count": 48,
   "metadata": {
    "collapsed": false
   },
   "outputs": [
    {
     "name": "stdout",
     "output_type": "stream",
     "text": [
      "set(['Miami', 'Florida State', 'Florida', 'Stetson'])\n"
     ]
    }
   ],
   "source": [
    "print myset | set(['Miami', 'Stetson']) # OR"
   ]
  },
  {
   "cell_type": "code",
   "execution_count": 49,
   "metadata": {
    "collapsed": false
   },
   "outputs": [
    {
     "name": "stdout",
     "output_type": "stream",
     "text": [
      "set(['Stetson', 'Florida', 'Florida State'])\n"
     ]
    }
   ],
   "source": [
    "print myset ^ set(['Miami', 'Stetson']) # XOR"
   ]
  },
  {
   "cell_type": "markdown",
   "metadata": {},
   "source": [
    "###Dictionaries\n",
    "Python supports dictionaries which can be thought of as an unordered list of key, value pairs.  Keys can be any immutable type and are typically integers or strings.  Values can be any object, even dictionaries.\n",
    "\n",
    "Dictionaries are created with curly braces {}"
   ]
  },
  {
   "cell_type": "code",
   "execution_count": 50,
   "metadata": {
    "collapsed": false
   },
   "outputs": [
    {
     "name": "stdout",
     "output_type": "stream",
     "text": [
      "{'Georgia': 2, 'Florida': 1, 'Tennessee': 3}\n"
     ]
    }
   ],
   "source": [
    "mydict = {'Florida' : 1, 'Georgia' : 2, 'Tennessee' : 3}\n",
    "print mydict"
   ]
  },
  {
   "cell_type": "code",
   "execution_count": 51,
   "metadata": {
    "collapsed": false
   },
   "outputs": [
    {
     "name": "stdout",
     "output_type": "stream",
     "text": [
      "1\n"
     ]
    }
   ],
   "source": [
    "print mydict['Florida'] # access the value with key = 'Florida'"
   ]
  },
  {
   "cell_type": "code",
   "execution_count": 52,
   "metadata": {
    "collapsed": false
   },
   "outputs": [
    {
     "name": "stdout",
     "output_type": "stream",
     "text": [
      "{'Georgia': 2, 'Florida': 1}\n"
     ]
    }
   ],
   "source": [
    "del mydict['Tennessee'] # funky syntax to delete a key, value pair\n",
    "print mydict"
   ]
  },
  {
   "cell_type": "code",
   "execution_count": 53,
   "metadata": {
    "collapsed": false
   },
   "outputs": [
    {
     "name": "stdout",
     "output_type": "stream",
     "text": [
      "{'Georgia': 7, 'Florida': 1}\n"
     ]
    }
   ],
   "source": [
    "mydict['Georgia'] = 7 # assignment\n",
    "print mydict"
   ]
  },
  {
   "cell_type": "code",
   "execution_count": 54,
   "metadata": {
    "collapsed": false
   },
   "outputs": [
    {
     "name": "stdout",
     "output_type": "stream",
     "text": [
      "{'Georgia': 7, 'Florida': 1, 'Kentucky': 6}\n"
     ]
    }
   ],
   "source": [
    "mydict['Kentucky'] = 6 # you can append a new key\n",
    "print mydict"
   ]
  },
  {
   "cell_type": "code",
   "execution_count": 55,
   "metadata": {
    "collapsed": false
   },
   "outputs": [
    {
     "name": "stdout",
     "output_type": "stream",
     "text": [
      "['Georgia', 'Florida', 'Kentucky']\n"
     ]
    }
   ],
   "source": [
    "print mydict.keys() # get a list of keys"
   ]
  },
  {
   "cell_type": "markdown",
   "metadata": {},
   "source": [
    "##Conditionals\n",
    "Python supports the standard if-else-if conditional expression"
   ]
  },
  {
   "cell_type": "code",
   "execution_count": 56,
   "metadata": {
    "collapsed": false
   },
   "outputs": [
    {
     "name": "stdout",
     "output_type": "stream",
     "text": [
      "a is greater than b\n"
     ]
    }
   ],
   "source": [
    "a = 2; b = 1;\n",
    "\n",
    "if a > b: print \"a is greater than b\""
   ]
  },
  {
   "cell_type": "code",
   "execution_count": 57,
   "metadata": {
    "collapsed": false
   },
   "outputs": [
    {
     "name": "stdout",
     "output_type": "stream",
     "text": [
      "b is less than or equal to a\n"
     ]
    }
   ],
   "source": [
    "if b > a:\n",
    "    print \"b is greater than a\"\n",
    "else:\n",
    "    print \"b is less than or equal to a\""
   ]
  },
  {
   "cell_type": "code",
   "execution_count": 58,
   "metadata": {
    "collapsed": false
   },
   "outputs": [
    {
     "name": "stdout",
     "output_type": "stream",
     "text": [
      "a is equal to b\n"
     ]
    }
   ],
   "source": [
    "b = 2\n",
    "\n",
    "if a > b:\n",
    "    print \"a is greater than b\"\n",
    "elif a < b:\n",
    "    print \"a is less than b\"\n",
    "else:\n",
    "    print \"a is equal to b\""
   ]
  },
  {
   "cell_type": "markdown",
   "metadata": {},
   "source": [
    "##Loops\n",
    "Python supports for, foreach, and while loops\n",
    "###For (counting)\n",
    "Traditional counting loops are accomplished in Python with a combination of the <code>for</code> key word and the <code>range</code> function"
   ]
  },
  {
   "cell_type": "code",
   "execution_count": 59,
   "metadata": {
    "collapsed": false
   },
   "outputs": [
    {
     "name": "stdout",
     "output_type": "stream",
     "text": [
      "0\n",
      "1\n",
      "2\n",
      "3\n",
      "4\n",
      "5\n",
      "6\n",
      "7\n",
      "8\n",
      "9\n"
     ]
    }
   ],
   "source": [
    "for x in range(10): # with one argument, range produces integers from 0 to 9\n",
    "    print x"
   ]
  },
  {
   "cell_type": "code",
   "execution_count": 60,
   "metadata": {
    "collapsed": false
   },
   "outputs": [
    {
     "name": "stdout",
     "output_type": "stream",
     "text": [
      "5\n",
      "6\n",
      "7\n",
      "8\n",
      "9\n",
      "10\n",
      "11\n"
     ]
    }
   ],
   "source": [
    "for y in range(5, 12): # with two argumentts, range produces integers from 5 to 11\n",
    "    print y"
   ]
  },
  {
   "cell_type": "code",
   "execution_count": 61,
   "metadata": {
    "collapsed": false
   },
   "outputs": [
    {
     "name": "stdout",
     "output_type": "stream",
     "text": [
      "1\n",
      "4\n",
      "7\n",
      "10\n"
     ]
    }
   ],
   "source": [
    "for z in range(1, 12, 3): # with three arguments, range starts at 1 and goes in steps of 3 until greater than 12\n",
    "    print z"
   ]
  },
  {
   "cell_type": "code",
   "execution_count": 62,
   "metadata": {
    "collapsed": false
   },
   "outputs": [
    {
     "name": "stdout",
     "output_type": "stream",
     "text": [
      "10\n",
      "5\n"
     ]
    }
   ],
   "source": [
    "for a in range(10, 1, -5): # can use a negative step size as well\n",
    "    print a"
   ]
  },
  {
   "cell_type": "code",
   "execution_count": 63,
   "metadata": {
    "collapsed": false
   },
   "outputs": [],
   "source": [
    "for b in range(2, 1, 1): # with a positive step, all values are less than 1. No integers are produced\n",
    "    print b"
   ]
  },
  {
   "cell_type": "code",
   "execution_count": 64,
   "metadata": {
    "collapsed": true
   },
   "outputs": [],
   "source": [
    "for c in range(1, 2, -1): # same goes for a negative step as all values are less than 2\n",
    "    print c"
   ]
  },
  {
   "cell_type": "markdown",
   "metadata": {},
   "source": [
    "###Foreach\n",
    "As it turns out, counting loops are just foreach loops in Python.  The <code>range</code> function returns a list of integers over which <code>for in</code> iterates.  This can be extended to any other iterable type"
   ]
  },
  {
   "cell_type": "code",
   "execution_count": 65,
   "metadata": {
    "collapsed": false
   },
   "outputs": [
    {
     "name": "stdout",
     "output_type": "stream",
     "text": [
      "foo\n",
      "bar\n"
     ]
    }
   ],
   "source": [
    "for i in ['foo', 'bar']: # iterate over a list of strings\n",
    "    print i"
   ]
  },
  {
   "cell_type": "code",
   "execution_count": 66,
   "metadata": {
    "collapsed": false
   },
   "outputs": [
    {
     "name": "stdout",
     "output_type": "stream",
     "text": [
      "three 3\n",
      "two 2\n",
      "one 1\n"
     ]
    }
   ],
   "source": [
    "anotherdict = {'one' : 1, 'two' : 2, 'three' : 3}\n",
    "\n",
    "for key in anotherdict.keys(): # iterate over a dictionary.  Order is not guaranteed\n",
    "    print key, anotherdict[key]"
   ]
  },
  {
   "cell_type": "markdown",
   "metadata": {},
   "source": [
    "###While\n",
    "Python supports standard <code>while</code> loops"
   ]
  },
  {
   "cell_type": "code",
   "execution_count": 67,
   "metadata": {
    "collapsed": false
   },
   "outputs": [
    {
     "name": "stdout",
     "output_type": "stream",
     "text": [
      "6\n",
      "4\n"
     ]
    }
   ],
   "source": [
    "a = 1; b = 4; c = 7; d = 5;\n",
    "\n",
    "while (a < b) and (c > d): # example of and condition\n",
    "    print c - a\n",
    "    a += 1 # example of incrementing\n",
    "    c -= 1 # decrementing"
   ]
  },
  {
   "cell_type": "markdown",
   "metadata": {},
   "source": [
    "Python does not have a construct for a do-while loop, though it can be accomplished using the <code>break</code> statement"
   ]
  },
  {
   "cell_type": "code",
   "execution_count": 68,
   "metadata": {
    "collapsed": false
   },
   "outputs": [
    {
     "name": "stdout",
     "output_type": "stream",
     "text": [
      "2\n",
      "4\n",
      "8\n",
      "16\n"
     ]
    }
   ],
   "source": [
    "a = 1; b = 10\n",
    "\n",
    "while True: # short circuit the while condition\n",
    "    a *= 2\n",
    "    print a\n",
    "    if a > b:\n",
    "        break"
   ]
  },
  {
   "cell_type": "markdown",
   "metadata": {},
   "source": [
    "##Functions\n",
    "Functions in Python do not have a distinction between those that do and do not return a value.  If a value is returned, the type is not declared.\n",
    "\n",
    "Functions can be declared in any module without any distinction between static and non-static.  Functions can even be declared within other functions\n",
    "\n",
    "The syntax is the following"
   ]
  },
  {
   "cell_type": "code",
   "execution_count": 69,
   "metadata": {
    "collapsed": false
   },
   "outputs": [
    {
     "name": "stdout",
     "output_type": "stream",
     "text": [
      "Hello there!\n"
     ]
    }
   ],
   "source": [
    "def hello():\n",
    "    print \"Hello there!\"\n",
    "    \n",
    "hello()"
   ]
  },
  {
   "cell_type": "code",
   "execution_count": 70,
   "metadata": {
    "collapsed": false
   },
   "outputs": [
    {
     "name": "stdout",
     "output_type": "stream",
     "text": [
      "#0 Kasey Hill\n"
     ]
    }
   ],
   "source": [
    "def player(name, number): # use some arguments\n",
    "    print \"#\" + str(number), name # cast number to a string when concatenating\n",
    "    \n",
    "player(\"Kasey Hill\", 0)"
   ]
  },
  {
   "cell_type": "markdown",
   "metadata": {},
   "source": [
    "Functions can have optional arguments if a default value is provided in the function signature"
   ]
  },
  {
   "cell_type": "code",
   "execution_count": 71,
   "metadata": {
    "collapsed": false
   },
   "outputs": [
    {
     "name": "stdout",
     "output_type": "stream",
     "text": [
      "#0 Kasey Hill Florida\n"
     ]
    }
   ],
   "source": [
    "def player(name, number, team = 'Florida'): # optional team argument\n",
    "    print \"#\" + str(number), name, team\n",
    "    \n",
    "player(\"Kasey Hill\", 0) # no team argument supplied"
   ]
  },
  {
   "cell_type": "code",
   "execution_count": 72,
   "metadata": {
    "collapsed": false
   },
   "outputs": [
    {
     "name": "stdout",
     "output_type": "stream",
     "text": [
      "#2 Aaron Harrison Kentucky\n"
     ]
    }
   ],
   "source": [
    "player(\"Aaron Harrison\", 2, \"Kentucky\") # supplying all three arguments"
   ]
  },
  {
   "cell_type": "markdown",
   "metadata": {},
   "source": [
    "Python functions can be called using named arguments, instead of positional"
   ]
  },
  {
   "cell_type": "code",
   "execution_count": 73,
   "metadata": {
    "collapsed": false
   },
   "outputs": [
    {
     "name": "stdout",
     "output_type": "stream",
     "text": [
      "#23 Chris Walker Florida\n"
     ]
    }
   ],
   "source": [
    "player(number = 23, name = 'Chris Walker')"
   ]
  },
  {
   "cell_type": "markdown",
   "metadata": {},
   "source": [
    "###\\*args and \\**kwargs\n",
    "In Python, there is a special deferencing scheme that allows for defining and calling functions with argument lists or dictionaries.\n",
    "\n",
    "####\\*args"
   ]
  },
  {
   "cell_type": "code",
   "execution_count": 74,
   "metadata": {
    "collapsed": false
   },
   "outputs": [
    {
     "name": "stdout",
     "output_type": "stream",
     "text": [
      "#20 Michael Frazier II Florida\n"
     ]
    }
   ],
   "source": [
    "args = ['Michael Frazier II', 20, 'Florida']\n",
    "\n",
    "player(*args) # calling player with the dereferenced argument list"
   ]
  },
  {
   "cell_type": "markdown",
   "metadata": {},
   "source": [
    "Argument lists can also be used in defining a function as such"
   ]
  },
  {
   "cell_type": "code",
   "execution_count": 75,
   "metadata": {
    "collapsed": false
   },
   "outputs": [
    {
     "name": "stdout",
     "output_type": "stream",
     "text": [
      "la\n",
      "dee\n",
      "da\n"
     ]
    }
   ],
   "source": [
    "def foo(*args): \n",
    "    for someFoo in args:\n",
    "        print someFoo\n",
    "        \n",
    "foo('la', 'dee', 'da') # supports an arbitrary number of arguments"
   ]
  },
  {
   "cell_type": "markdown",
   "metadata": {},
   "source": [
    "####**kwargs\n",
    "Similarly, we can define a dictionary of named parameters"
   ]
  },
  {
   "cell_type": "code",
   "execution_count": 76,
   "metadata": {
    "collapsed": false
   },
   "outputs": [
    {
     "name": "stdout",
     "output_type": "stream",
     "text": [
      "#20 Michael Frazier II Florida\n"
     ]
    }
   ],
   "source": [
    "kwargs = {'name' : 'Michael Frazier II', 'number' : 20}\n",
    "\n",
    "player(**kwargs) # calling player with the dereferenced kwargs dictionary.  The team argument will be defaulted"
   ]
  },
  {
   "cell_type": "markdown",
   "metadata": {},
   "source": [
    "Just as before, we can define a function taking an arbitrary dictionary"
   ]
  },
  {
   "cell_type": "code",
   "execution_count": 77,
   "metadata": {
    "collapsed": false
   },
   "outputs": [
    {
     "name": "stdout",
     "output_type": "stream",
     "text": [
      "name Michael Frazier II\n",
      "number 20\n"
     ]
    }
   ],
   "source": [
    "def foo(**kwargs):\n",
    "    for key in kwargs.keys():\n",
    "        print key, kwargs[key]\n",
    "        \n",
    "foo(**kwargs)"
   ]
  },
  {
   "cell_type": "markdown",
   "metadata": {},
   "source": [
    "###return\n",
    "In Python functions, an arbitrary number of values can be returned"
   ]
  },
  {
   "cell_type": "code",
   "execution_count": 78,
   "metadata": {
    "collapsed": false
   },
   "outputs": [
    {
     "name": "stdout",
     "output_type": "stream",
     "text": [
      "3\n"
     ]
    }
   ],
   "source": [
    "def sum(x,y):\n",
    "    return x + y # return a single value\n",
    "\n",
    "print sum(1,2)"
   ]
  },
  {
   "cell_type": "code",
   "execution_count": 79,
   "metadata": {
    "collapsed": false
   },
   "outputs": [
    {
     "name": "stdout",
     "output_type": "stream",
     "text": [
      "3 2\n"
     ]
    }
   ],
   "source": [
    "def sum_and_product(x,y):\n",
    "    return x + y, x * y # return two values\n",
    "\n",
    "mysum, myproduct = sum_and_product(1,2)\n",
    "print mysum, myproduct"
   ]
  },
  {
   "cell_type": "markdown",
   "metadata": {},
   "source": [
    "#Data Science Tutorial\n",
    "Now that we've covered some Python basics, we will begin a tutorial going through many tasks a data scientist may perform.  We will obtain real world data and go through the process of auditing, analyzing, visualing, and building classifiers from the data.\n",
    "\n",
    "We will use a database of breast cancer data obtained from the University of Wisconsin Hospitals, Madison from Dr. William H. Wolberg.  The data is a collection of samples from Dr. Wolberg's clinical cases with attributes pertaining to tumors and a class labeling the sample as benign or malignant.\n",
    "\n",
    "| Attribute                      | Domain                          |\n",
    "|--------------------------------|---------------------------------|\n",
    "| 1. Sample code number          | id number                       |\n",
    "| 2. Clump Thickness             | 1 - 10                          |\n",
    "| 3. Uniformity of Cell Size     | 1 - 10                          |\n",
    "| 4. Uniformity of Cell Shape    | 1 - 10                          |\n",
    "| 5. Marginal Adhesion           | 1 - 10                          |\n",
    "| 6. Single Epithelial Cell Size | 1 - 10                          |\n",
    "| 7. Bare Nuclei                 | 1 - 10                          |\n",
    "| 8. Bland Chromatin             | 1 - 10                          |\n",
    "| 9. Normal Nucleoli             | 1 - 10                          |\n",
    "| 10. Mitoses                    | 1 - 10                          |\n",
    "| 11. Class                      | (2 for benign, 4 for malignant) |\n",
    "\n",
    "For more information on this data set:\n",
    "https://archive.ics.uci.edu/ml/datasets/Breast+Cancer+Wisconsin+%28Diagnostic%29\n",
    "\n",
    "##Obtaining the Data\n",
    "Lets begin by programmatically obtaining the data.  Here I'll define a function we can use to make HTTP requests and download the data"
   ]
  },
  {
   "cell_type": "code",
   "execution_count": 80,
   "metadata": {
    "collapsed": false
   },
   "outputs": [],
   "source": [
    "def download_file(url, local_filename):\n",
    "    import requests\n",
    "    \n",
    "    # stream = True allows downloading of large files; prevents loading entire file into memory\n",
    "    r = requests.get(url, stream = True)\n",
    "    with open(local_filename, 'wb') as f:\n",
    "        for chunk in r.iter_content(chunk_size=1024): \n",
    "            if chunk: # filter out keep-alive new chunks\n",
    "                f.write(chunk)\n",
    "                f.flush()"
   ]
  },
  {
   "cell_type": "markdown",
   "metadata": {},
   "source": [
    "Now we'll specify the url of the file and the file name we will save to"
   ]
  },
  {
   "cell_type": "code",
   "execution_count": 81,
   "metadata": {
    "collapsed": true
   },
   "outputs": [],
   "source": [
    "url = 'https://archive.ics.uci.edu/ml/machine-learning-databases/breast-cancer-wisconsin/breast-cancer-wisconsin.data'\n",
    "filename = 'breast-cancer-wisconsin.csv'"
   ]
  },
  {
   "cell_type": "markdown",
   "metadata": {},
   "source": [
    "And make a call to <code>download_file</code>"
   ]
  },
  {
   "cell_type": "code",
   "execution_count": 82,
   "metadata": {
    "collapsed": true
   },
   "outputs": [],
   "source": [
    "download_file(url, filename)"
   ]
  },
  {
   "cell_type": "markdown",
   "metadata": {},
   "source": [
    "Now this might seem like overkill for downloading a single, small csv file, but we can use this same function to access countless APIs available on the World Wide Web by building an API request in the url.\n",
    "\n",
    "##Wrangling the Data\n",
    "Now that we have some data, lets get it into a useful form.  For this task we will use a package called pandas. pandas is an open source, BSD-licensed library providing high-performance, easy-to-use data structures and data analysis tools for Python.  The most fundamental data structure in pandas is the dataframe, which is similar to the data.frame data structure found in the R statistical programming language.\n",
    "\n",
    "For more information: http://pandas.pydata.org\n",
    "\n",
    "pandas dataframes are a 2-dimensional labeled data structures with columns of potentially different types.  Dataframes can be thought of as similar to a spreadsheet or SQL table.\n",
    "\n",
    "There are numerous ways to build a dataframe with pandas.  Since we have already attained a csv file, we can use a parser built into pandas called <code>read_csv</code> which will read the contents of a csv file directly into a data frame.\n",
    "\n",
    "For more information: http://pandas.pydata.org/pandas-docs/dev/generated/pandas.io.parsers.read_csv.html"
   ]
  },
  {
   "cell_type": "code",
   "execution_count": 83,
   "metadata": {
    "collapsed": false
   },
   "outputs": [
    {
     "data": {
      "text/html": [
       "<div style=\"max-height:1000px;max-width:1500px;overflow:auto;\">\n",
       "<table border=\"1\" class=\"dataframe\">\n",
       "  <thead>\n",
       "    <tr style=\"text-align: right;\">\n",
       "      <th></th>\n",
       "      <th>1000025</th>\n",
       "      <th>5</th>\n",
       "      <th>1</th>\n",
       "      <th>1.1</th>\n",
       "      <th>1.2</th>\n",
       "      <th>2</th>\n",
       "      <th>1.3</th>\n",
       "      <th>3</th>\n",
       "      <th>1.4</th>\n",
       "      <th>1.5</th>\n",
       "      <th>2.1</th>\n",
       "    </tr>\n",
       "  </thead>\n",
       "  <tbody>\n",
       "    <tr>\n",
       "      <th>0</th>\n",
       "      <td> 1002945</td>\n",
       "      <td> 5</td>\n",
       "      <td>  4</td>\n",
       "      <td>  4</td>\n",
       "      <td> 5</td>\n",
       "      <td> 7</td>\n",
       "      <td> 10</td>\n",
       "      <td> 3</td>\n",
       "      <td> 2</td>\n",
       "      <td> 1</td>\n",
       "      <td> 2</td>\n",
       "    </tr>\n",
       "    <tr>\n",
       "      <th>1</th>\n",
       "      <td> 1015425</td>\n",
       "      <td> 3</td>\n",
       "      <td>  1</td>\n",
       "      <td>  1</td>\n",
       "      <td> 1</td>\n",
       "      <td> 2</td>\n",
       "      <td>  2</td>\n",
       "      <td> 3</td>\n",
       "      <td> 1</td>\n",
       "      <td> 1</td>\n",
       "      <td> 2</td>\n",
       "    </tr>\n",
       "    <tr>\n",
       "      <th>2</th>\n",
       "      <td> 1016277</td>\n",
       "      <td> 6</td>\n",
       "      <td>  8</td>\n",
       "      <td>  8</td>\n",
       "      <td> 1</td>\n",
       "      <td> 3</td>\n",
       "      <td>  4</td>\n",
       "      <td> 3</td>\n",
       "      <td> 7</td>\n",
       "      <td> 1</td>\n",
       "      <td> 2</td>\n",
       "    </tr>\n",
       "    <tr>\n",
       "      <th>3</th>\n",
       "      <td> 1017023</td>\n",
       "      <td> 4</td>\n",
       "      <td>  1</td>\n",
       "      <td>  1</td>\n",
       "      <td> 3</td>\n",
       "      <td> 2</td>\n",
       "      <td>  1</td>\n",
       "      <td> 3</td>\n",
       "      <td> 1</td>\n",
       "      <td> 1</td>\n",
       "      <td> 2</td>\n",
       "    </tr>\n",
       "    <tr>\n",
       "      <th>4</th>\n",
       "      <td> 1017122</td>\n",
       "      <td> 8</td>\n",
       "      <td> 10</td>\n",
       "      <td> 10</td>\n",
       "      <td> 8</td>\n",
       "      <td> 7</td>\n",
       "      <td> 10</td>\n",
       "      <td> 9</td>\n",
       "      <td> 7</td>\n",
       "      <td> 1</td>\n",
       "      <td> 4</td>\n",
       "    </tr>\n",
       "  </tbody>\n",
       "</table>\n",
       "</div>"
      ],
      "text/plain": [
       "   1000025  5   1  1.1  1.2  2 1.3  3  1.4  1.5  2.1\n",
       "0  1002945  5   4    4    5  7  10  3    2    1    2\n",
       "1  1015425  3   1    1    1  2   2  3    1    1    2\n",
       "2  1016277  6   8    8    1  3   4  3    7    1    2\n",
       "3  1017023  4   1    1    3  2   1  3    1    1    2\n",
       "4  1017122  8  10   10    8  7  10  9    7    1    4"
      ]
     },
     "execution_count": 83,
     "metadata": {},
     "output_type": "execute_result"
    }
   ],
   "source": [
    "import pandas as pd # import the module and alias it as pd\n",
    "\n",
    "cancer_data = pd.read_csv('breast-cancer-wisconsin.csv')\n",
    "cancer_data.head() # show the first few rows of the data"
   ]
  },
  {
   "cell_type": "markdown",
   "metadata": {},
   "source": [
    "Whoops, looks like our csv file did not contain a header row.  <code>read_csv</code> assumes the first row of the csv is the header by default.\n",
    "\n",
    "Lets check out the file located here: https://archive.ics.uci.edu/ml/machine-learning-databases/breast-cancer-wisconsin/breast-cancer-wisconsin.names\n",
    "\n",
    "This contains information about the data set including the names of the attributes.\n",
    "\n",
    "Lets create a list of these attribute names to use when reading the csv file"
   ]
  },
  {
   "cell_type": "code",
   "execution_count": 84,
   "metadata": {
    "collapsed": false
   },
   "outputs": [],
   "source": [
    "# \\ allows multi line wrapping\n",
    "cancer_header = [ \\\n",
    "                 'sample_code_number', \\\n",
    "                 'clump_thickness', \\\n",
    "                 'uniformity_cell_size', \\\n",
    "                 'uniformity_cell_shape', \\\n",
    "                 'marginal_adhesion', \\\n",
    "                 'single_epithelial_cell_size', \\\n",
    "                 'bare_nuclei', \\\n",
    "                 'bland_chromatin', \\\n",
    "                 'normal_nucleoli', \\\n",
    "                 'mitoses', \\\n",
    "                 'class']"
   ]
  },
  {
   "cell_type": "markdown",
   "metadata": {},
   "source": [
    "Lets try the import again, this time specifying the names.  When specifying names, the <code>read_csv</code> function requires us to set the <code>header</code> row number to <code>None</code>"
   ]
  },
  {
   "cell_type": "code",
   "execution_count": 85,
   "metadata": {
    "collapsed": false
   },
   "outputs": [
    {
     "data": {
      "text/html": [
       "<div style=\"max-height:1000px;max-width:1500px;overflow:auto;\">\n",
       "<table border=\"1\" class=\"dataframe\">\n",
       "  <thead>\n",
       "    <tr style=\"text-align: right;\">\n",
       "      <th></th>\n",
       "      <th>sample_code_number</th>\n",
       "      <th>clump_thickness</th>\n",
       "      <th>uniformity_cell_size</th>\n",
       "      <th>uniformity_cell_shape</th>\n",
       "      <th>marginal_adhesion</th>\n",
       "      <th>single_epithelial_cell_size</th>\n",
       "      <th>bare_nuclei</th>\n",
       "      <th>bland_chromatin</th>\n",
       "      <th>normal_nucleoli</th>\n",
       "      <th>mitoses</th>\n",
       "      <th>class</th>\n",
       "    </tr>\n",
       "  </thead>\n",
       "  <tbody>\n",
       "    <tr>\n",
       "      <th>0</th>\n",
       "      <td> 1000025</td>\n",
       "      <td> 5</td>\n",
       "      <td> 1</td>\n",
       "      <td> 1</td>\n",
       "      <td> 1</td>\n",
       "      <td> 2</td>\n",
       "      <td>  1</td>\n",
       "      <td> 3</td>\n",
       "      <td> 1</td>\n",
       "      <td> 1</td>\n",
       "      <td> 2</td>\n",
       "    </tr>\n",
       "    <tr>\n",
       "      <th>1</th>\n",
       "      <td> 1002945</td>\n",
       "      <td> 5</td>\n",
       "      <td> 4</td>\n",
       "      <td> 4</td>\n",
       "      <td> 5</td>\n",
       "      <td> 7</td>\n",
       "      <td> 10</td>\n",
       "      <td> 3</td>\n",
       "      <td> 2</td>\n",
       "      <td> 1</td>\n",
       "      <td> 2</td>\n",
       "    </tr>\n",
       "    <tr>\n",
       "      <th>2</th>\n",
       "      <td> 1015425</td>\n",
       "      <td> 3</td>\n",
       "      <td> 1</td>\n",
       "      <td> 1</td>\n",
       "      <td> 1</td>\n",
       "      <td> 2</td>\n",
       "      <td>  2</td>\n",
       "      <td> 3</td>\n",
       "      <td> 1</td>\n",
       "      <td> 1</td>\n",
       "      <td> 2</td>\n",
       "    </tr>\n",
       "    <tr>\n",
       "      <th>3</th>\n",
       "      <td> 1016277</td>\n",
       "      <td> 6</td>\n",
       "      <td> 8</td>\n",
       "      <td> 8</td>\n",
       "      <td> 1</td>\n",
       "      <td> 3</td>\n",
       "      <td>  4</td>\n",
       "      <td> 3</td>\n",
       "      <td> 7</td>\n",
       "      <td> 1</td>\n",
       "      <td> 2</td>\n",
       "    </tr>\n",
       "    <tr>\n",
       "      <th>4</th>\n",
       "      <td> 1017023</td>\n",
       "      <td> 4</td>\n",
       "      <td> 1</td>\n",
       "      <td> 1</td>\n",
       "      <td> 3</td>\n",
       "      <td> 2</td>\n",
       "      <td>  1</td>\n",
       "      <td> 3</td>\n",
       "      <td> 1</td>\n",
       "      <td> 1</td>\n",
       "      <td> 2</td>\n",
       "    </tr>\n",
       "  </tbody>\n",
       "</table>\n",
       "</div>"
      ],
      "text/plain": [
       "   sample_code_number  clump_thickness  uniformity_cell_size  \\\n",
       "0             1000025                5                     1   \n",
       "1             1002945                5                     4   \n",
       "2             1015425                3                     1   \n",
       "3             1016277                6                     8   \n",
       "4             1017023                4                     1   \n",
       "\n",
       "   uniformity_cell_shape  marginal_adhesion  single_epithelial_cell_size  \\\n",
       "0                      1                  1                            2   \n",
       "1                      4                  5                            7   \n",
       "2                      1                  1                            2   \n",
       "3                      8                  1                            3   \n",
       "4                      1                  3                            2   \n",
       "\n",
       "  bare_nuclei  bland_chromatin  normal_nucleoli  mitoses  class  \n",
       "0           1                3                1        1      2  \n",
       "1          10                3                2        1      2  \n",
       "2           2                3                1        1      2  \n",
       "3           4                3                7        1      2  \n",
       "4           1                3                1        1      2  "
      ]
     },
     "execution_count": 85,
     "metadata": {},
     "output_type": "execute_result"
    }
   ],
   "source": [
    "cancer_data = pd.read_csv('breast-cancer-wisconsin.csv', header=None, names=cancer_header)\n",
    "cancer_data.head()"
   ]
  },
  {
   "cell_type": "markdown",
   "metadata": {},
   "source": [
    "Lets take a look at some simple statistics for the **clump_thickness** column"
   ]
  },
  {
   "cell_type": "code",
   "execution_count": 86,
   "metadata": {
    "collapsed": false
   },
   "outputs": [
    {
     "data": {
      "text/plain": [
       "count    699.000000\n",
       "mean       4.417740\n",
       "std        2.815741\n",
       "min        1.000000\n",
       "25%        2.000000\n",
       "50%        4.000000\n",
       "75%        6.000000\n",
       "max       10.000000\n",
       "Name: clump_thickness, dtype: float64"
      ]
     },
     "execution_count": 86,
     "metadata": {},
     "output_type": "execute_result"
    }
   ],
   "source": [
    "cancer_data[\"clump_thickness\"].describe()"
   ]
  },
  {
   "cell_type": "markdown",
   "metadata": {},
   "source": [
    "Referring to the documentation link above about the data, the count, range of values (min = 1, max = 10), and data type (dtype = float64) look correct.\n",
    "\n",
    "Lets take a look at another column, this time **bare_nuclei**"
   ]
  },
  {
   "cell_type": "code",
   "execution_count": 87,
   "metadata": {
    "collapsed": false
   },
   "outputs": [
    {
     "data": {
      "text/plain": [
       "count     699\n",
       "unique     11\n",
       "top         1\n",
       "freq      402\n",
       "Name: bare_nuclei, dtype: object"
      ]
     },
     "execution_count": 87,
     "metadata": {},
     "output_type": "execute_result"
    }
   ],
   "source": [
    "cancer_data[\"bare_nuclei\"].describe()"
   ]
  },
  {
   "cell_type": "markdown",
   "metadata": {},
   "source": [
    "Well at least the count is correct.  We were expecting no more than 10 unique values and now the data type is an object.  \n",
    "\n",
    "Whats up with our data?\n",
    "\n",
    "We have arrived at arguably the most important part of performing data science: dealing with messy data.  One of most important tools in a data scientist's toolbox is the ability to audit, clean, and reshape data.  The real world is full of messy data and your sources may not always have data in the exact format you desire.\n",
    "\n",
    "In this case we are working with csv data, which is a relatively straightforward format, but this will not always be the case when performing real world data science.  Data comes in all varieties from csv all the way to something as unstructured as a collection of emails or documents.  A data scientist must be versed in a wide variety of technologies and methodologies in order to be successful.\n",
    "\n",
    "Now, lets do a little bit of digging into why were are not getting a numeric pandas column"
   ]
  },
  {
   "cell_type": "code",
   "execution_count": 93,
   "metadata": {
    "collapsed": false
   },
   "outputs": [
    {
     "data": {
      "text/plain": [
       "array(['1', '10', '2', '4', '3', '9', '7', '?', '5', '8', '6'], dtype=object)"
      ]
     },
     "execution_count": 93,
     "metadata": {},
     "output_type": "execute_result"
    }
   ],
   "source": [
    "cancer_data[\"bare_nuclei\"].unique()\n",
    "\n",
    "cancer_data[\"bare_nuclei\"].convert_objects(convert_numeric=True)\n"
   ]
  },
  {
   "cell_type": "code",
   "execution_count": 88,
   "metadata": {
    "collapsed": false
   },
   "outputs": [
    {
     "data": {
      "text/html": [
       "<div style=\"max-height:1000px;max-width:1500px;overflow:auto;\">\n",
       "<table border=\"1\" class=\"dataframe\">\n",
       "  <thead>\n",
       "    <tr style=\"text-align: right;\">\n",
       "      <th></th>\n",
       "      <th>sample_code_number</th>\n",
       "      <th>clump_thickness</th>\n",
       "      <th>uniformity_cell_size</th>\n",
       "      <th>uniformity_cell_shape</th>\n",
       "      <th>marginal_adhesion</th>\n",
       "      <th>single_epithelial_cell_size</th>\n",
       "      <th>bland_chromatin</th>\n",
       "      <th>normal_nucleoli</th>\n",
       "      <th>mitoses</th>\n",
       "      <th>class</th>\n",
       "    </tr>\n",
       "  </thead>\n",
       "  <tbody>\n",
       "    <tr>\n",
       "      <th>count</th>\n",
       "      <td>      699.000000</td>\n",
       "      <td> 699.000000</td>\n",
       "      <td> 699.000000</td>\n",
       "      <td> 699.000000</td>\n",
       "      <td> 699.000000</td>\n",
       "      <td> 699.000000</td>\n",
       "      <td> 699.000000</td>\n",
       "      <td> 699.000000</td>\n",
       "      <td> 699.000000</td>\n",
       "      <td> 699.000000</td>\n",
       "    </tr>\n",
       "    <tr>\n",
       "      <th>mean</th>\n",
       "      <td>  1071704.098712</td>\n",
       "      <td>   4.417740</td>\n",
       "      <td>   3.134478</td>\n",
       "      <td>   3.207439</td>\n",
       "      <td>   2.806867</td>\n",
       "      <td>   3.216023</td>\n",
       "      <td>   3.437768</td>\n",
       "      <td>   2.866953</td>\n",
       "      <td>   1.589413</td>\n",
       "      <td>   2.689557</td>\n",
       "    </tr>\n",
       "    <tr>\n",
       "      <th>std</th>\n",
       "      <td>   617095.729819</td>\n",
       "      <td>   2.815741</td>\n",
       "      <td>   3.051459</td>\n",
       "      <td>   2.971913</td>\n",
       "      <td>   2.855379</td>\n",
       "      <td>   2.214300</td>\n",
       "      <td>   2.438364</td>\n",
       "      <td>   3.053634</td>\n",
       "      <td>   1.715078</td>\n",
       "      <td>   0.951273</td>\n",
       "    </tr>\n",
       "    <tr>\n",
       "      <th>min</th>\n",
       "      <td>    61634.000000</td>\n",
       "      <td>   1.000000</td>\n",
       "      <td>   1.000000</td>\n",
       "      <td>   1.000000</td>\n",
       "      <td>   1.000000</td>\n",
       "      <td>   1.000000</td>\n",
       "      <td>   1.000000</td>\n",
       "      <td>   1.000000</td>\n",
       "      <td>   1.000000</td>\n",
       "      <td>   2.000000</td>\n",
       "    </tr>\n",
       "    <tr>\n",
       "      <th>25%</th>\n",
       "      <td>   870688.500000</td>\n",
       "      <td>   2.000000</td>\n",
       "      <td>   1.000000</td>\n",
       "      <td>   1.000000</td>\n",
       "      <td>   1.000000</td>\n",
       "      <td>   2.000000</td>\n",
       "      <td>   2.000000</td>\n",
       "      <td>   1.000000</td>\n",
       "      <td>   1.000000</td>\n",
       "      <td>   2.000000</td>\n",
       "    </tr>\n",
       "    <tr>\n",
       "      <th>50%</th>\n",
       "      <td>  1171710.000000</td>\n",
       "      <td>   4.000000</td>\n",
       "      <td>   1.000000</td>\n",
       "      <td>   1.000000</td>\n",
       "      <td>   1.000000</td>\n",
       "      <td>   2.000000</td>\n",
       "      <td>   3.000000</td>\n",
       "      <td>   1.000000</td>\n",
       "      <td>   1.000000</td>\n",
       "      <td>   2.000000</td>\n",
       "    </tr>\n",
       "    <tr>\n",
       "      <th>75%</th>\n",
       "      <td>  1238298.000000</td>\n",
       "      <td>   6.000000</td>\n",
       "      <td>   5.000000</td>\n",
       "      <td>   5.000000</td>\n",
       "      <td>   4.000000</td>\n",
       "      <td>   4.000000</td>\n",
       "      <td>   5.000000</td>\n",
       "      <td>   4.000000</td>\n",
       "      <td>   1.000000</td>\n",
       "      <td>   4.000000</td>\n",
       "    </tr>\n",
       "    <tr>\n",
       "      <th>max</th>\n",
       "      <td> 13454352.000000</td>\n",
       "      <td>  10.000000</td>\n",
       "      <td>  10.000000</td>\n",
       "      <td>  10.000000</td>\n",
       "      <td>  10.000000</td>\n",
       "      <td>  10.000000</td>\n",
       "      <td>  10.000000</td>\n",
       "      <td>  10.000000</td>\n",
       "      <td>  10.000000</td>\n",
       "      <td>   4.000000</td>\n",
       "    </tr>\n",
       "  </tbody>\n",
       "</table>\n",
       "</div>"
      ],
      "text/plain": [
       "       sample_code_number  clump_thickness  uniformity_cell_size  \\\n",
       "count          699.000000       699.000000            699.000000   \n",
       "mean       1071704.098712         4.417740              3.134478   \n",
       "std         617095.729819         2.815741              3.051459   \n",
       "min          61634.000000         1.000000              1.000000   \n",
       "25%         870688.500000         2.000000              1.000000   \n",
       "50%        1171710.000000         4.000000              1.000000   \n",
       "75%        1238298.000000         6.000000              5.000000   \n",
       "max       13454352.000000        10.000000             10.000000   \n",
       "\n",
       "       uniformity_cell_shape  marginal_adhesion  single_epithelial_cell_size  \\\n",
       "count             699.000000         699.000000                   699.000000   \n",
       "mean                3.207439           2.806867                     3.216023   \n",
       "std                 2.971913           2.855379                     2.214300   \n",
       "min                 1.000000           1.000000                     1.000000   \n",
       "25%                 1.000000           1.000000                     2.000000   \n",
       "50%                 1.000000           1.000000                     2.000000   \n",
       "75%                 5.000000           4.000000                     4.000000   \n",
       "max                10.000000          10.000000                    10.000000   \n",
       "\n",
       "       bland_chromatin  normal_nucleoli     mitoses       class  \n",
       "count       699.000000       699.000000  699.000000  699.000000  \n",
       "mean          3.437768         2.866953    1.589413    2.689557  \n",
       "std           2.438364         3.053634    1.715078    0.951273  \n",
       "min           1.000000         1.000000    1.000000    2.000000  \n",
       "25%           2.000000         1.000000    1.000000    2.000000  \n",
       "50%           3.000000         1.000000    1.000000    2.000000  \n",
       "75%           5.000000         4.000000    1.000000    4.000000  \n",
       "max          10.000000        10.000000   10.000000    4.000000  "
      ]
     },
     "execution_count": 88,
     "metadata": {},
     "output_type": "execute_result"
    }
   ],
   "source": [
    "cancer_data.describe()"
   ]
  },
  {
   "cell_type": "code",
   "execution_count": 89,
   "metadata": {
    "collapsed": false
   },
   "outputs": [
    {
     "data": {
      "text/html": [
       "<div style=\"max-height:1000px;max-width:1500px;overflow:auto;\">\n",
       "<table border=\"1\" class=\"dataframe\">\n",
       "  <thead>\n",
       "    <tr style=\"text-align: right;\">\n",
       "      <th></th>\n",
       "      <th>sample_code_number</th>\n",
       "      <th>clump_thickness</th>\n",
       "      <th>uniformity_cell_size</th>\n",
       "      <th>uniformity_cell_shape</th>\n",
       "      <th>marginal_adhesion</th>\n",
       "      <th>single_epithelial_cell_size</th>\n",
       "      <th>bare_nuclei</th>\n",
       "      <th>bland_chromatin</th>\n",
       "      <th>normal_nucleoli</th>\n",
       "      <th>mitoses</th>\n",
       "      <th>class</th>\n",
       "    </tr>\n",
       "  </thead>\n",
       "  <tbody>\n",
       "    <tr>\n",
       "      <th>23</th>\n",
       "      <td> 1057013</td>\n",
       "      <td> 8</td>\n",
       "      <td> 4</td>\n",
       "      <td> 5</td>\n",
       "      <td> 1</td>\n",
       "      <td> 2</td>\n",
       "      <td> ?</td>\n",
       "      <td> 7</td>\n",
       "      <td> 3</td>\n",
       "      <td> 1</td>\n",
       "      <td> 4</td>\n",
       "    </tr>\n",
       "  </tbody>\n",
       "</table>\n",
       "</div>"
      ],
      "text/plain": [
       "    sample_code_number  clump_thickness  uniformity_cell_size  \\\n",
       "23             1057013                8                     4   \n",
       "\n",
       "    uniformity_cell_shape  marginal_adhesion  single_epithelial_cell_size  \\\n",
       "23                      5                  1                            2   \n",
       "\n",
       "   bare_nuclei  bland_chromatin  normal_nucleoli  mitoses  class  \n",
       "23           ?                7                3        1      4  "
      ]
     },
     "execution_count": 89,
     "metadata": {},
     "output_type": "execute_result"
    }
   ],
   "source": [
    "cancer_data[cancer_data.sample_code_number == 1057013]"
   ]
  },
  {
   "cell_type": "code",
   "execution_count": null,
   "metadata": {
    "collapsed": true
   },
   "outputs": [],
   "source": []
  }
 ],
 "metadata": {
  "kernelspec": {
   "display_name": "Python 2",
   "language": "python",
   "name": "python2"
  },
  "language_info": {
   "codemirror_mode": {
    "name": "ipython",
    "version": 2
   },
   "file_extension": ".py",
   "mimetype": "text/x-python",
   "name": "python",
   "nbconvert_exporter": "python",
   "pygments_lexer": "ipython2",
   "version": "2.7.9"
  }
 },
 "nbformat": 4,
 "nbformat_minor": 0
}
